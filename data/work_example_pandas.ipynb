{
 "cells": [
  {
   "cell_type": "code",
   "execution_count": 1,
   "metadata": {},
   "outputs": [],
   "source": [
    "import numpy as np\n",
    "import pandas as pd\n",
    "from geopy.distance import geodesic\n",
    "import geopy\n",
    "import matplotlib.pyplot as plt\n",
    "from sklearn.preprocessing import PowerTransformer\n",
    "from sklearn.preprocessing import RobustScaler"
   ]
  },
  {
   "cell_type": "code",
   "execution_count": 2,
   "metadata": {},
   "outputs": [
    {
     "data": {
      "text/html": [
       "<div>\n",
       "<style scoped>\n",
       "    .dataframe tbody tr th:only-of-type {\n",
       "        vertical-align: middle;\n",
       "    }\n",
       "\n",
       "    .dataframe tbody tr th {\n",
       "        vertical-align: top;\n",
       "    }\n",
       "\n",
       "    .dataframe thead th {\n",
       "        text-align: right;\n",
       "    }\n",
       "</style>\n",
       "<table border=\"1\" class=\"dataframe\">\n",
       "  <thead>\n",
       "    <tr style=\"text-align: right;\">\n",
       "      <th></th>\n",
       "      <th>_ID</th>\n",
       "      <th>TimeSt</th>\n",
       "      <th>Country</th>\n",
       "      <th>Province</th>\n",
       "      <th>City</th>\n",
       "      <th>Latitude</th>\n",
       "      <th>Longitude</th>\n",
       "    </tr>\n",
       "  </thead>\n",
       "  <tbody>\n",
       "    <tr>\n",
       "      <th>0</th>\n",
       "      <td>4516516</td>\n",
       "      <td>2017-06-21 00:00:00.143</td>\n",
       "      <td>CA</td>\n",
       "      <td>ON</td>\n",
       "      <td>Waterloo</td>\n",
       "      <td>43.49347</td>\n",
       "      <td>-80.49123</td>\n",
       "    </tr>\n",
       "    <tr>\n",
       "      <th>1</th>\n",
       "      <td>4516547</td>\n",
       "      <td>2017-06-21 18:00:00.193</td>\n",
       "      <td>CA</td>\n",
       "      <td>ON</td>\n",
       "      <td>London</td>\n",
       "      <td>42.93990</td>\n",
       "      <td>-81.27090</td>\n",
       "    </tr>\n",
       "    <tr>\n",
       "      <th>2</th>\n",
       "      <td>4516550</td>\n",
       "      <td>2017-06-21 15:00:00.287</td>\n",
       "      <td>CA</td>\n",
       "      <td>ON</td>\n",
       "      <td>Guelph</td>\n",
       "      <td>43.57760</td>\n",
       "      <td>-80.22010</td>\n",
       "    </tr>\n",
       "    <tr>\n",
       "      <th>3</th>\n",
       "      <td>4516600</td>\n",
       "      <td>2017-06-21 15:00:00.307</td>\n",
       "      <td>CA</td>\n",
       "      <td>ON</td>\n",
       "      <td>Stratford</td>\n",
       "      <td>43.37160</td>\n",
       "      <td>-80.97730</td>\n",
       "    </tr>\n",
       "    <tr>\n",
       "      <th>4</th>\n",
       "      <td>4516613</td>\n",
       "      <td>2017-06-21 15:00:00.497</td>\n",
       "      <td>CA</td>\n",
       "      <td>ON</td>\n",
       "      <td>Stratford</td>\n",
       "      <td>43.37160</td>\n",
       "      <td>-80.97730</td>\n",
       "    </tr>\n",
       "  </tbody>\n",
       "</table>\n",
       "</div>"
      ],
      "text/plain": [
       "       _ID                   TimeSt Country Province       City  Latitude  \\\n",
       "0  4516516  2017-06-21 00:00:00.143      CA       ON   Waterloo  43.49347   \n",
       "1  4516547  2017-06-21 18:00:00.193      CA       ON     London  42.93990   \n",
       "2  4516550  2017-06-21 15:00:00.287      CA       ON     Guelph  43.57760   \n",
       "3  4516600  2017-06-21 15:00:00.307      CA       ON  Stratford  43.37160   \n",
       "4  4516613  2017-06-21 15:00:00.497      CA       ON  Stratford  43.37160   \n",
       "\n",
       "   Longitude  \n",
       "0  -80.49123  \n",
       "1  -81.27090  \n",
       "2  -80.22010  \n",
       "3  -80.97730  \n",
       "4  -80.97730  "
      ]
     },
     "execution_count": 2,
     "metadata": {},
     "output_type": "execute_result"
    }
   ],
   "source": [
    "location_df=pd.read_csv(\"DataSample.csv\")\n",
    "location_df.head()"
   ]
  },
  {
   "cell_type": "code",
   "execution_count": 3,
   "metadata": {},
   "outputs": [
    {
     "data": {
      "text/html": [
       "<div>\n",
       "<style scoped>\n",
       "    .dataframe tbody tr th:only-of-type {\n",
       "        vertical-align: middle;\n",
       "    }\n",
       "\n",
       "    .dataframe tbody tr th {\n",
       "        vertical-align: top;\n",
       "    }\n",
       "\n",
       "    .dataframe thead th {\n",
       "        text-align: right;\n",
       "    }\n",
       "</style>\n",
       "<table border=\"1\" class=\"dataframe\">\n",
       "  <thead>\n",
       "    <tr style=\"text-align: right;\">\n",
       "      <th></th>\n",
       "      <th>POIID</th>\n",
       "      <th>Latitude</th>\n",
       "      <th>Longitude</th>\n",
       "    </tr>\n",
       "  </thead>\n",
       "  <tbody>\n",
       "    <tr>\n",
       "      <th>0</th>\n",
       "      <td>POI1</td>\n",
       "      <td>53.546167</td>\n",
       "      <td>-113.485734</td>\n",
       "    </tr>\n",
       "    <tr>\n",
       "      <th>2</th>\n",
       "      <td>POI3</td>\n",
       "      <td>45.521629</td>\n",
       "      <td>-73.566024</td>\n",
       "    </tr>\n",
       "    <tr>\n",
       "      <th>3</th>\n",
       "      <td>POI4</td>\n",
       "      <td>45.224830</td>\n",
       "      <td>-63.232729</td>\n",
       "    </tr>\n",
       "  </tbody>\n",
       "</table>\n",
       "</div>"
      ],
      "text/plain": [
       "  POIID   Latitude   Longitude\n",
       "0  POI1  53.546167 -113.485734\n",
       "2  POI3  45.521629  -73.566024\n",
       "3  POI4  45.224830  -63.232729"
      ]
     },
     "execution_count": 3,
     "metadata": {},
     "output_type": "execute_result"
    }
   ],
   "source": [
    "poi_df=pd.read_csv(\"POIList.csv\")\n",
    "clean_poi=poi_df.drop_duplicates(subset=[' Latitude','Longitude'])\n",
    "clean_poi"
   ]
  },
  {
   "cell_type": "code",
   "execution_count": 4,
   "metadata": {},
   "outputs": [],
   "source": [
    "#data clean up\n",
    "suspicious_data=location_df[location_df.duplicated([' TimeSt','Latitude','Longitude'])]"
   ]
  },
  {
   "cell_type": "code",
   "execution_count": 5,
   "metadata": {},
   "outputs": [
    {
     "data": {
      "text/html": [
       "<div>\n",
       "<style scoped>\n",
       "    .dataframe tbody tr th:only-of-type {\n",
       "        vertical-align: middle;\n",
       "    }\n",
       "\n",
       "    .dataframe tbody tr th {\n",
       "        vertical-align: top;\n",
       "    }\n",
       "\n",
       "    .dataframe thead th {\n",
       "        text-align: right;\n",
       "    }\n",
       "</style>\n",
       "<table border=\"1\" class=\"dataframe\">\n",
       "  <thead>\n",
       "    <tr style=\"text-align: right;\">\n",
       "      <th></th>\n",
       "      <th>_ID</th>\n",
       "      <th>TimeSt</th>\n",
       "      <th>Country</th>\n",
       "      <th>Province</th>\n",
       "      <th>City</th>\n",
       "      <th>Latitude</th>\n",
       "      <th>Longitude</th>\n",
       "    </tr>\n",
       "  </thead>\n",
       "  <tbody>\n",
       "    <tr>\n",
       "      <th>12</th>\n",
       "      <td>4517047</td>\n",
       "      <td>2017-06-21 12:00:00.950</td>\n",
       "      <td>CA</td>\n",
       "      <td>ON</td>\n",
       "      <td>London</td>\n",
       "      <td>43.00910</td>\n",
       "      <td>-81.17650</td>\n",
       "    </tr>\n",
       "    <tr>\n",
       "      <th>19</th>\n",
       "      <td>4517347</td>\n",
       "      <td>2017-06-21 03:00:00.287</td>\n",
       "      <td>CA</td>\n",
       "      <td>ON</td>\n",
       "      <td>Windsor</td>\n",
       "      <td>42.29570</td>\n",
       "      <td>-82.95990</td>\n",
       "    </tr>\n",
       "    <tr>\n",
       "      <th>37</th>\n",
       "      <td>4518179</td>\n",
       "      <td>2017-06-21 08:00:00.663</td>\n",
       "      <td>CA</td>\n",
       "      <td>ON</td>\n",
       "      <td>Kitchener</td>\n",
       "      <td>43.46760</td>\n",
       "      <td>-80.48470</td>\n",
       "    </tr>\n",
       "    <tr>\n",
       "      <th>56</th>\n",
       "      <td>4519066</td>\n",
       "      <td>2017-06-21 07:00:00.747</td>\n",
       "      <td>CA</td>\n",
       "      <td>ON</td>\n",
       "      <td>Tillsonburg</td>\n",
       "      <td>42.86185</td>\n",
       "      <td>-80.72991</td>\n",
       "    </tr>\n",
       "    <tr>\n",
       "      <th>77</th>\n",
       "      <td>4520202</td>\n",
       "      <td>2017-06-21 17:00:02.433</td>\n",
       "      <td>CA</td>\n",
       "      <td>ON</td>\n",
       "      <td>Windsor</td>\n",
       "      <td>42.26540</td>\n",
       "      <td>-83.02610</td>\n",
       "    </tr>\n",
       "    <tr>\n",
       "      <th>...</th>\n",
       "      <td>...</td>\n",
       "      <td>...</td>\n",
       "      <td>...</td>\n",
       "      <td>...</td>\n",
       "      <td>...</td>\n",
       "      <td>...</td>\n",
       "      <td>...</td>\n",
       "    </tr>\n",
       "    <tr>\n",
       "      <th>21978</th>\n",
       "      <td>5613024</td>\n",
       "      <td>2017-06-21 21:22:52.703</td>\n",
       "      <td>CA</td>\n",
       "      <td>ON</td>\n",
       "      <td>Burlington</td>\n",
       "      <td>43.30160</td>\n",
       "      <td>-79.85820</td>\n",
       "    </tr>\n",
       "    <tr>\n",
       "      <th>21986</th>\n",
       "      <td>5613395</td>\n",
       "      <td>2017-06-21 18:22:52.750</td>\n",
       "      <td>CA</td>\n",
       "      <td>ON</td>\n",
       "      <td>Toronto</td>\n",
       "      <td>43.71290</td>\n",
       "      <td>-79.38880</td>\n",
       "    </tr>\n",
       "    <tr>\n",
       "      <th>22011</th>\n",
       "      <td>5614409</td>\n",
       "      <td>2017-06-21 20:22:53.367</td>\n",
       "      <td>CA</td>\n",
       "      <td>ON</td>\n",
       "      <td>Mississauga</td>\n",
       "      <td>43.58730</td>\n",
       "      <td>-79.60760</td>\n",
       "    </tr>\n",
       "    <tr>\n",
       "      <th>22013</th>\n",
       "      <td>5614486</td>\n",
       "      <td>2017-06-21 04:22:54.890</td>\n",
       "      <td>CA</td>\n",
       "      <td>ON</td>\n",
       "      <td>Toronto</td>\n",
       "      <td>43.70680</td>\n",
       "      <td>-79.39910</td>\n",
       "    </tr>\n",
       "    <tr>\n",
       "      <th>22021</th>\n",
       "      <td>5614888</td>\n",
       "      <td>2017-06-21 08:23:01.793</td>\n",
       "      <td>CA</td>\n",
       "      <td>AB</td>\n",
       "      <td>Calgary</td>\n",
       "      <td>51.02093</td>\n",
       "      <td>-114.10621</td>\n",
       "    </tr>\n",
       "  </tbody>\n",
       "</table>\n",
       "<p>2026 rows × 7 columns</p>\n",
       "</div>"
      ],
      "text/plain": [
       "           _ID                   TimeSt Country Province         City  \\\n",
       "12     4517047  2017-06-21 12:00:00.950      CA       ON       London   \n",
       "19     4517347  2017-06-21 03:00:00.287      CA       ON      Windsor   \n",
       "37     4518179  2017-06-21 08:00:00.663      CA       ON    Kitchener   \n",
       "56     4519066  2017-06-21 07:00:00.747      CA       ON  Tillsonburg   \n",
       "77     4520202  2017-06-21 17:00:02.433      CA       ON      Windsor   \n",
       "...        ...                      ...     ...      ...          ...   \n",
       "21978  5613024  2017-06-21 21:22:52.703      CA       ON   Burlington   \n",
       "21986  5613395  2017-06-21 18:22:52.750      CA       ON      Toronto   \n",
       "22011  5614409  2017-06-21 20:22:53.367      CA       ON  Mississauga   \n",
       "22013  5614486  2017-06-21 04:22:54.890      CA       ON      Toronto   \n",
       "22021  5614888  2017-06-21 08:23:01.793      CA       AB      Calgary   \n",
       "\n",
       "       Latitude  Longitude  \n",
       "12     43.00910  -81.17650  \n",
       "19     42.29570  -82.95990  \n",
       "37     43.46760  -80.48470  \n",
       "56     42.86185  -80.72991  \n",
       "77     42.26540  -83.02610  \n",
       "...         ...        ...  \n",
       "21978  43.30160  -79.85820  \n",
       "21986  43.71290  -79.38880  \n",
       "22011  43.58730  -79.60760  \n",
       "22013  43.70680  -79.39910  \n",
       "22021  51.02093 -114.10621  \n",
       "\n",
       "[2026 rows x 7 columns]"
      ]
     },
     "execution_count": 5,
     "metadata": {},
     "output_type": "execute_result"
    }
   ],
   "source": [
    "suspicious_data"
   ]
  },
  {
   "cell_type": "code",
   "execution_count": 6,
   "metadata": {},
   "outputs": [],
   "source": [
    "clean_df=location_df.drop_duplicates(subset=[' TimeSt','Latitude','Longitude'])"
   ]
  },
  {
   "cell_type": "code",
   "execution_count": 7,
   "metadata": {},
   "outputs": [
    {
     "data": {
      "text/html": [
       "<div>\n",
       "<style scoped>\n",
       "    .dataframe tbody tr th:only-of-type {\n",
       "        vertical-align: middle;\n",
       "    }\n",
       "\n",
       "    .dataframe tbody tr th {\n",
       "        vertical-align: top;\n",
       "    }\n",
       "\n",
       "    .dataframe thead th {\n",
       "        text-align: right;\n",
       "    }\n",
       "</style>\n",
       "<table border=\"1\" class=\"dataframe\">\n",
       "  <thead>\n",
       "    <tr style=\"text-align: right;\">\n",
       "      <th></th>\n",
       "      <th>_ID</th>\n",
       "      <th>TimeSt</th>\n",
       "      <th>Country</th>\n",
       "      <th>Province</th>\n",
       "      <th>City</th>\n",
       "      <th>Latitude</th>\n",
       "      <th>Longitude</th>\n",
       "    </tr>\n",
       "  </thead>\n",
       "  <tbody>\n",
       "    <tr>\n",
       "      <th>0</th>\n",
       "      <td>4516516</td>\n",
       "      <td>2017-06-21 00:00:00.143</td>\n",
       "      <td>CA</td>\n",
       "      <td>ON</td>\n",
       "      <td>Waterloo</td>\n",
       "      <td>43.49347</td>\n",
       "      <td>-80.49123</td>\n",
       "    </tr>\n",
       "    <tr>\n",
       "      <th>1</th>\n",
       "      <td>4516547</td>\n",
       "      <td>2017-06-21 18:00:00.193</td>\n",
       "      <td>CA</td>\n",
       "      <td>ON</td>\n",
       "      <td>London</td>\n",
       "      <td>42.93990</td>\n",
       "      <td>-81.27090</td>\n",
       "    </tr>\n",
       "    <tr>\n",
       "      <th>2</th>\n",
       "      <td>4516550</td>\n",
       "      <td>2017-06-21 15:00:00.287</td>\n",
       "      <td>CA</td>\n",
       "      <td>ON</td>\n",
       "      <td>Guelph</td>\n",
       "      <td>43.57760</td>\n",
       "      <td>-80.22010</td>\n",
       "    </tr>\n",
       "    <tr>\n",
       "      <th>3</th>\n",
       "      <td>4516600</td>\n",
       "      <td>2017-06-21 15:00:00.307</td>\n",
       "      <td>CA</td>\n",
       "      <td>ON</td>\n",
       "      <td>Stratford</td>\n",
       "      <td>43.37160</td>\n",
       "      <td>-80.97730</td>\n",
       "    </tr>\n",
       "    <tr>\n",
       "      <th>4</th>\n",
       "      <td>4516613</td>\n",
       "      <td>2017-06-21 15:00:00.497</td>\n",
       "      <td>CA</td>\n",
       "      <td>ON</td>\n",
       "      <td>Stratford</td>\n",
       "      <td>43.37160</td>\n",
       "      <td>-80.97730</td>\n",
       "    </tr>\n",
       "    <tr>\n",
       "      <th>...</th>\n",
       "      <td>...</td>\n",
       "      <td>...</td>\n",
       "      <td>...</td>\n",
       "      <td>...</td>\n",
       "      <td>...</td>\n",
       "      <td>...</td>\n",
       "      <td>...</td>\n",
       "    </tr>\n",
       "    <tr>\n",
       "      <th>22019</th>\n",
       "      <td>5614760</td>\n",
       "      <td>2017-06-21 08:23:01.793</td>\n",
       "      <td>CA</td>\n",
       "      <td>AB</td>\n",
       "      <td>Calgary</td>\n",
       "      <td>51.02093</td>\n",
       "      <td>-114.10621</td>\n",
       "    </tr>\n",
       "    <tr>\n",
       "      <th>22020</th>\n",
       "      <td>5614801</td>\n",
       "      <td>2017-06-21 12:23:07.880</td>\n",
       "      <td>CA</td>\n",
       "      <td>ON</td>\n",
       "      <td>Saint Catharines</td>\n",
       "      <td>43.16440</td>\n",
       "      <td>-79.24560</td>\n",
       "    </tr>\n",
       "    <tr>\n",
       "      <th>22022</th>\n",
       "      <td>5614909</td>\n",
       "      <td>2017-06-21 00:23:07.903</td>\n",
       "      <td>CA</td>\n",
       "      <td>ON</td>\n",
       "      <td>Whitby</td>\n",
       "      <td>43.88730</td>\n",
       "      <td>-78.94220</td>\n",
       "    </tr>\n",
       "    <tr>\n",
       "      <th>22023</th>\n",
       "      <td>5614912</td>\n",
       "      <td>2017-06-21 11:23:07.953</td>\n",
       "      <td>CA</td>\n",
       "      <td>ON</td>\n",
       "      <td>Oakville</td>\n",
       "      <td>43.49340</td>\n",
       "      <td>-79.71260</td>\n",
       "    </tr>\n",
       "    <tr>\n",
       "      <th>22024</th>\n",
       "      <td>5615006</td>\n",
       "      <td>2017-06-21 17:23:08.033</td>\n",
       "      <td>CA</td>\n",
       "      <td>ON</td>\n",
       "      <td>Oakville</td>\n",
       "      <td>43.43090</td>\n",
       "      <td>-79.77670</td>\n",
       "    </tr>\n",
       "  </tbody>\n",
       "</table>\n",
       "<p>19999 rows × 7 columns</p>\n",
       "</div>"
      ],
      "text/plain": [
       "           _ID                   TimeSt Country Province              City  \\\n",
       "0      4516516  2017-06-21 00:00:00.143      CA       ON          Waterloo   \n",
       "1      4516547  2017-06-21 18:00:00.193      CA       ON            London   \n",
       "2      4516550  2017-06-21 15:00:00.287      CA       ON            Guelph   \n",
       "3      4516600  2017-06-21 15:00:00.307      CA       ON         Stratford   \n",
       "4      4516613  2017-06-21 15:00:00.497      CA       ON         Stratford   \n",
       "...        ...                      ...     ...      ...               ...   \n",
       "22019  5614760  2017-06-21 08:23:01.793      CA       AB           Calgary   \n",
       "22020  5614801  2017-06-21 12:23:07.880      CA       ON  Saint Catharines   \n",
       "22022  5614909  2017-06-21 00:23:07.903      CA       ON            Whitby   \n",
       "22023  5614912  2017-06-21 11:23:07.953      CA       ON          Oakville   \n",
       "22024  5615006  2017-06-21 17:23:08.033      CA       ON          Oakville   \n",
       "\n",
       "       Latitude  Longitude  \n",
       "0      43.49347  -80.49123  \n",
       "1      42.93990  -81.27090  \n",
       "2      43.57760  -80.22010  \n",
       "3      43.37160  -80.97730  \n",
       "4      43.37160  -80.97730  \n",
       "...         ...        ...  \n",
       "22019  51.02093 -114.10621  \n",
       "22020  43.16440  -79.24560  \n",
       "22022  43.88730  -78.94220  \n",
       "22023  43.49340  -79.71260  \n",
       "22024  43.43090  -79.77670  \n",
       "\n",
       "[19999 rows x 7 columns]"
      ]
     },
     "execution_count": 7,
     "metadata": {},
     "output_type": "execute_result"
    }
   ],
   "source": [
    "clean_df"
   ]
  },
  {
   "cell_type": "code",
   "execution_count": 8,
   "metadata": {},
   "outputs": [
    {
     "data": {
      "text/html": [
       "<div>\n",
       "<style scoped>\n",
       "    .dataframe tbody tr th:only-of-type {\n",
       "        vertical-align: middle;\n",
       "    }\n",
       "\n",
       "    .dataframe tbody tr th {\n",
       "        vertical-align: top;\n",
       "    }\n",
       "\n",
       "    .dataframe thead th {\n",
       "        text-align: right;\n",
       "    }\n",
       "</style>\n",
       "<table border=\"1\" class=\"dataframe\">\n",
       "  <thead>\n",
       "    <tr style=\"text-align: right;\">\n",
       "      <th></th>\n",
       "      <th>Latitude</th>\n",
       "      <th>Longitude</th>\n",
       "    </tr>\n",
       "  </thead>\n",
       "  <tbody>\n",
       "    <tr>\n",
       "      <th>0</th>\n",
       "      <td>43.49347</td>\n",
       "      <td>-80.49123</td>\n",
       "    </tr>\n",
       "    <tr>\n",
       "      <th>1</th>\n",
       "      <td>42.93990</td>\n",
       "      <td>-81.27090</td>\n",
       "    </tr>\n",
       "    <tr>\n",
       "      <th>2</th>\n",
       "      <td>43.57760</td>\n",
       "      <td>-80.22010</td>\n",
       "    </tr>\n",
       "    <tr>\n",
       "      <th>3</th>\n",
       "      <td>43.37160</td>\n",
       "      <td>-80.97730</td>\n",
       "    </tr>\n",
       "    <tr>\n",
       "      <th>4</th>\n",
       "      <td>43.37160</td>\n",
       "      <td>-80.97730</td>\n",
       "    </tr>\n",
       "    <tr>\n",
       "      <th>...</th>\n",
       "      <td>...</td>\n",
       "      <td>...</td>\n",
       "    </tr>\n",
       "    <tr>\n",
       "      <th>22019</th>\n",
       "      <td>51.02093</td>\n",
       "      <td>-114.10621</td>\n",
       "    </tr>\n",
       "    <tr>\n",
       "      <th>22020</th>\n",
       "      <td>43.16440</td>\n",
       "      <td>-79.24560</td>\n",
       "    </tr>\n",
       "    <tr>\n",
       "      <th>22022</th>\n",
       "      <td>43.88730</td>\n",
       "      <td>-78.94220</td>\n",
       "    </tr>\n",
       "    <tr>\n",
       "      <th>22023</th>\n",
       "      <td>43.49340</td>\n",
       "      <td>-79.71260</td>\n",
       "    </tr>\n",
       "    <tr>\n",
       "      <th>22024</th>\n",
       "      <td>43.43090</td>\n",
       "      <td>-79.77670</td>\n",
       "    </tr>\n",
       "  </tbody>\n",
       "</table>\n",
       "<p>19999 rows × 2 columns</p>\n",
       "</div>"
      ],
      "text/plain": [
       "       Latitude  Longitude\n",
       "0      43.49347  -80.49123\n",
       "1      42.93990  -81.27090\n",
       "2      43.57760  -80.22010\n",
       "3      43.37160  -80.97730\n",
       "4      43.37160  -80.97730\n",
       "...         ...        ...\n",
       "22019  51.02093 -114.10621\n",
       "22020  43.16440  -79.24560\n",
       "22022  43.88730  -78.94220\n",
       "22023  43.49340  -79.71260\n",
       "22024  43.43090  -79.77670\n",
       "\n",
       "[19999 rows x 2 columns]"
      ]
     },
     "execution_count": 8,
     "metadata": {},
     "output_type": "execute_result"
    }
   ],
   "source": [
    "#label \n",
    "clean_geo_points=clean_df[['Latitude','Longitude']]\n",
    "clean_geo_points"
   ]
  },
  {
   "cell_type": "code",
   "execution_count": 9,
   "metadata": {},
   "outputs": [
    {
     "data": {
      "text/plain": [
       "1851.5920499579456"
      ]
     },
     "execution_count": 9,
     "metadata": {},
     "output_type": "execute_result"
    }
   ],
   "source": [
    "Lat=[]\n",
    "Lng=[]\n",
    "for index, row in clean_poi.iterrows():\n",
    "    Lat.append(row[\" Latitude\"])\n",
    "    Lng.append(row[\"Longitude\"])\n",
    "coords_1=(Lat[0],Lng[0])\n",
    "coords_2=(Lat[1],Lng[1])\n",
    "coords_3=(Lat[2],Lng[2])\n",
    "geodesic(coords_1, coords_2).miles"
   ]
  },
  {
   "cell_type": "code",
   "execution_count": 10,
   "metadata": {},
   "outputs": [
    {
     "name": "stderr",
     "output_type": "stream",
     "text": [
      "C:\\Users\\16478\\Anaconda3\\lib\\site-packages\\ipykernel_launcher.py:1: SettingWithCopyWarning: \n",
      "A value is trying to be set on a copy of a slice from a DataFrame.\n",
      "Try using .loc[row_indexer,col_indexer] = value instead\n",
      "\n",
      "See the caveats in the documentation: http://pandas.pydata.org/pandas-docs/stable/user_guide/indexing.html#returning-a-view-versus-a-copy\n",
      "  \"\"\"Entry point for launching an IPython kernel.\n",
      "C:\\Users\\16478\\Anaconda3\\lib\\site-packages\\ipykernel_launcher.py:2: SettingWithCopyWarning: \n",
      "A value is trying to be set on a copy of a slice from a DataFrame.\n",
      "Try using .loc[row_indexer,col_indexer] = value instead\n",
      "\n",
      "See the caveats in the documentation: http://pandas.pydata.org/pandas-docs/stable/user_guide/indexing.html#returning-a-view-versus-a-copy\n",
      "  \n",
      "C:\\Users\\16478\\Anaconda3\\lib\\site-packages\\pandas\\core\\indexing.py:494: SettingWithCopyWarning: \n",
      "A value is trying to be set on a copy of a slice from a DataFrame.\n",
      "Try using .loc[row_indexer,col_indexer] = value instead\n",
      "\n",
      "See the caveats in the documentation: http://pandas.pydata.org/pandas-docs/stable/user_guide/indexing.html#returning-a-view-versus-a-copy\n",
      "  self.obj[item] = s\n"
     ]
    },
    {
     "data": {
      "text/html": [
       "<div>\n",
       "<style scoped>\n",
       "    .dataframe tbody tr th:only-of-type {\n",
       "        vertical-align: middle;\n",
       "    }\n",
       "\n",
       "    .dataframe tbody tr th {\n",
       "        vertical-align: top;\n",
       "    }\n",
       "\n",
       "    .dataframe thead th {\n",
       "        text-align: right;\n",
       "    }\n",
       "</style>\n",
       "<table border=\"1\" class=\"dataframe\">\n",
       "  <thead>\n",
       "    <tr style=\"text-align: right;\">\n",
       "      <th></th>\n",
       "      <th>Latitude</th>\n",
       "      <th>Longitude</th>\n",
       "      <th>min dist</th>\n",
       "      <th>closest poi</th>\n",
       "    </tr>\n",
       "  </thead>\n",
       "  <tbody>\n",
       "    <tr>\n",
       "      <th>0</th>\n",
       "      <td>43.49347</td>\n",
       "      <td>-80.49123</td>\n",
       "      <td>369.569</td>\n",
       "      <td>2</td>\n",
       "    </tr>\n",
       "    <tr>\n",
       "      <th>1</th>\n",
       "      <td>42.93990</td>\n",
       "      <td>-81.27090</td>\n",
       "      <td>421.759</td>\n",
       "      <td>2</td>\n",
       "    </tr>\n",
       "    <tr>\n",
       "      <th>2</th>\n",
       "      <td>43.57760</td>\n",
       "      <td>-80.22010</td>\n",
       "      <td>354.77</td>\n",
       "      <td>2</td>\n",
       "    </tr>\n",
       "    <tr>\n",
       "      <th>3</th>\n",
       "      <td>43.37160</td>\n",
       "      <td>-80.97730</td>\n",
       "      <td>395.305</td>\n",
       "      <td>2</td>\n",
       "    </tr>\n",
       "    <tr>\n",
       "      <th>4</th>\n",
       "      <td>43.37160</td>\n",
       "      <td>-80.97730</td>\n",
       "      <td>395.305</td>\n",
       "      <td>2</td>\n",
       "    </tr>\n",
       "  </tbody>\n",
       "</table>\n",
       "</div>"
      ],
      "text/plain": [
       "   Latitude  Longitude min dist  closest poi\n",
       "0  43.49347  -80.49123  369.569            2\n",
       "1  42.93990  -81.27090  421.759            2\n",
       "2  43.57760  -80.22010   354.77            2\n",
       "3  43.37160  -80.97730  395.305            2\n",
       "4  43.37160  -80.97730  395.305            2"
      ]
     },
     "execution_count": 10,
     "metadata": {},
     "output_type": "execute_result"
    }
   ],
   "source": [
    "clean_geo_points['min dist']=''\n",
    "clean_geo_points['closest poi']=''\n",
    "for index, row in clean_geo_points.iterrows():\n",
    "    target=(clean_geo_points.loc[index,\"Latitude\"],clean_geo_points.loc[index,\"Longitude\"])\n",
    "    dist_1=geodesic(coords_1, target).miles\n",
    "    dist_2=geodesic(coords_2, target).miles\n",
    "    dist_3=geodesic(coords_3, target).miles\n",
    "    min_dist=min(dist_1,dist_2,dist_3)\n",
    "    clean_geo_points.loc[index,\"min dist\"]=min_dist\n",
    "    if min_dist == dist_1:\n",
    "        clean_geo_points.loc[index,'closest poi']=1\n",
    "    elif min_dist == dist_2:\n",
    "        clean_geo_points.loc[index,'closest poi']=2\n",
    "    else:\n",
    "        clean_geo_points.loc[index,'closest poi']=3\n",
    "clean_geo_points.head()"
   ]
  },
  {
   "cell_type": "code",
   "execution_count": 11,
   "metadata": {},
   "outputs": [
    {
     "name": "stderr",
     "output_type": "stream",
     "text": [
      "C:\\Users\\16478\\Anaconda3\\lib\\site-packages\\ipykernel_launcher.py:1: SettingWithCopyWarning: \n",
      "A value is trying to be set on a copy of a slice from a DataFrame.\n",
      "Try using .loc[row_indexer,col_indexer] = value instead\n",
      "\n",
      "See the caveats in the documentation: http://pandas.pydata.org/pandas-docs/stable/user_guide/indexing.html#returning-a-view-versus-a-copy\n",
      "  \"\"\"Entry point for launching an IPython kernel.\n"
     ]
    }
   ],
   "source": [
    "clean_geo_points[\"min dist\"]=clean_geo_points[\"min dist\"].astype(float)\n",
    "poi=clean_geo_points.groupby([\"closest poi\"]).mean()"
   ]
  },
  {
   "cell_type": "code",
   "execution_count": 12,
   "metadata": {},
   "outputs": [
    {
     "data": {
      "text/html": [
       "<div>\n",
       "<style scoped>\n",
       "    .dataframe tbody tr th:only-of-type {\n",
       "        vertical-align: middle;\n",
       "    }\n",
       "\n",
       "    .dataframe tbody tr th {\n",
       "        vertical-align: top;\n",
       "    }\n",
       "\n",
       "    .dataframe thead th {\n",
       "        text-align: right;\n",
       "    }\n",
       "</style>\n",
       "<table border=\"1\" class=\"dataframe\">\n",
       "  <thead>\n",
       "    <tr style=\"text-align: right;\">\n",
       "      <th></th>\n",
       "      <th>Latitude</th>\n",
       "      <th>Longitude</th>\n",
       "      <th>min dist</th>\n",
       "      <th>std</th>\n",
       "    </tr>\n",
       "    <tr>\n",
       "      <th>closest poi</th>\n",
       "      <th></th>\n",
       "      <th></th>\n",
       "      <th></th>\n",
       "      <th></th>\n",
       "    </tr>\n",
       "  </thead>\n",
       "  <tbody>\n",
       "    <tr>\n",
       "      <th>1</th>\n",
       "      <td>51.881877</td>\n",
       "      <td>-113.138242</td>\n",
       "      <td>187.847773</td>\n",
       "      <td>256.620696</td>\n",
       "    </tr>\n",
       "    <tr>\n",
       "      <th>2</th>\n",
       "      <td>44.231803</td>\n",
       "      <td>-78.731890</td>\n",
       "      <td>281.269522</td>\n",
       "      <td>139.263652</td>\n",
       "    </tr>\n",
       "    <tr>\n",
       "      <th>3</th>\n",
       "      <td>45.572842</td>\n",
       "      <td>-59.579321</td>\n",
       "      <td>309.666122</td>\n",
       "      <td>917.325936</td>\n",
       "    </tr>\n",
       "  </tbody>\n",
       "</table>\n",
       "</div>"
      ],
      "text/plain": [
       "              Latitude   Longitude    min dist         std\n",
       "closest poi                                               \n",
       "1            51.881877 -113.138242  187.847773  256.620696\n",
       "2            44.231803  -78.731890  281.269522  139.263652\n",
       "3            45.572842  -59.579321  309.666122  917.325936"
      ]
     },
     "execution_count": 12,
     "metadata": {},
     "output_type": "execute_result"
    }
   ],
   "source": [
    "poi[\"std\"]=clean_geo_points.groupby([\"closest poi\"]).std()[\"min dist\"]\n",
    "poi"
   ]
  },
  {
   "cell_type": "code",
   "execution_count": 13,
   "metadata": {},
   "outputs": [
    {
     "data": {
      "text/html": [
       "<div>\n",
       "<style scoped>\n",
       "    .dataframe tbody tr th:only-of-type {\n",
       "        vertical-align: middle;\n",
       "    }\n",
       "\n",
       "    .dataframe tbody tr th {\n",
       "        vertical-align: top;\n",
       "    }\n",
       "\n",
       "    .dataframe thead th {\n",
       "        text-align: right;\n",
       "    }\n",
       "</style>\n",
       "<table border=\"1\" class=\"dataframe\">\n",
       "  <thead>\n",
       "    <tr style=\"text-align: right;\">\n",
       "      <th></th>\n",
       "      <th>Latitude</th>\n",
       "      <th>Longitude</th>\n",
       "      <th>min dist</th>\n",
       "      <th>std</th>\n",
       "      <th>max radius</th>\n",
       "    </tr>\n",
       "    <tr>\n",
       "      <th>closest poi</th>\n",
       "      <th></th>\n",
       "      <th></th>\n",
       "      <th></th>\n",
       "      <th></th>\n",
       "      <th></th>\n",
       "    </tr>\n",
       "  </thead>\n",
       "  <tbody>\n",
       "    <tr>\n",
       "      <th>1</th>\n",
       "      <td>51.881877</td>\n",
       "      <td>-113.138242</td>\n",
       "      <td>187.847773</td>\n",
       "      <td>256.620696</td>\n",
       "      <td>7171.760339</td>\n",
       "    </tr>\n",
       "    <tr>\n",
       "      <th>2</th>\n",
       "      <td>44.231803</td>\n",
       "      <td>-78.731890</td>\n",
       "      <td>281.269522</td>\n",
       "      <td>139.263652</td>\n",
       "      <td>932.338420</td>\n",
       "    </tr>\n",
       "    <tr>\n",
       "      <th>3</th>\n",
       "      <td>45.572842</td>\n",
       "      <td>-59.579321</td>\n",
       "      <td>309.666122</td>\n",
       "      <td>917.325936</td>\n",
       "      <td>5819.349805</td>\n",
       "    </tr>\n",
       "  </tbody>\n",
       "</table>\n",
       "</div>"
      ],
      "text/plain": [
       "              Latitude   Longitude    min dist         std   max radius\n",
       "closest poi                                                            \n",
       "1            51.881877 -113.138242  187.847773  256.620696  7171.760339\n",
       "2            44.231803  -78.731890  281.269522  139.263652   932.338420\n",
       "3            45.572842  -59.579321  309.666122  917.325936  5819.349805"
      ]
     },
     "execution_count": 13,
     "metadata": {},
     "output_type": "execute_result"
    }
   ],
   "source": [
    "poi[\"max radius\"]=clean_geo_points.groupby([\"closest poi\"]).max()[\"min dist\"]\n",
    "poi"
   ]
  },
  {
   "cell_type": "code",
   "execution_count": 14,
   "metadata": {},
   "outputs": [
    {
     "data": {
      "text/html": [
       "<div>\n",
       "<style scoped>\n",
       "    .dataframe tbody tr th:only-of-type {\n",
       "        vertical-align: middle;\n",
       "    }\n",
       "\n",
       "    .dataframe tbody tr th {\n",
       "        vertical-align: top;\n",
       "    }\n",
       "\n",
       "    .dataframe thead th {\n",
       "        text-align: right;\n",
       "    }\n",
       "</style>\n",
       "<table border=\"1\" class=\"dataframe\">\n",
       "  <thead>\n",
       "    <tr style=\"text-align: right;\">\n",
       "      <th></th>\n",
       "      <th>Latitude</th>\n",
       "      <th>Longitude</th>\n",
       "      <th>min dist</th>\n",
       "      <th>std</th>\n",
       "      <th>max radius</th>\n",
       "      <th>count</th>\n",
       "    </tr>\n",
       "    <tr>\n",
       "      <th>closest poi</th>\n",
       "      <th></th>\n",
       "      <th></th>\n",
       "      <th></th>\n",
       "      <th></th>\n",
       "      <th></th>\n",
       "      <th></th>\n",
       "    </tr>\n",
       "  </thead>\n",
       "  <tbody>\n",
       "    <tr>\n",
       "      <th>1</th>\n",
       "      <td>51.881877</td>\n",
       "      <td>-113.138242</td>\n",
       "      <td>187.847773</td>\n",
       "      <td>256.620696</td>\n",
       "      <td>7171.760339</td>\n",
       "      <td>9726</td>\n",
       "    </tr>\n",
       "    <tr>\n",
       "      <th>2</th>\n",
       "      <td>44.231803</td>\n",
       "      <td>-78.731890</td>\n",
       "      <td>281.269522</td>\n",
       "      <td>139.263652</td>\n",
       "      <td>932.338420</td>\n",
       "      <td>9796</td>\n",
       "    </tr>\n",
       "    <tr>\n",
       "      <th>3</th>\n",
       "      <td>45.572842</td>\n",
       "      <td>-59.579321</td>\n",
       "      <td>309.666122</td>\n",
       "      <td>917.325936</td>\n",
       "      <td>5819.349805</td>\n",
       "      <td>477</td>\n",
       "    </tr>\n",
       "  </tbody>\n",
       "</table>\n",
       "</div>"
      ],
      "text/plain": [
       "              Latitude   Longitude    min dist         std   max radius  count\n",
       "closest poi                                                                   \n",
       "1            51.881877 -113.138242  187.847773  256.620696  7171.760339   9726\n",
       "2            44.231803  -78.731890  281.269522  139.263652   932.338420   9796\n",
       "3            45.572842  -59.579321  309.666122  917.325936  5819.349805    477"
      ]
     },
     "execution_count": 14,
     "metadata": {},
     "output_type": "execute_result"
    }
   ],
   "source": [
    "poi[\"count\"]=clean_geo_points.groupby([\"closest poi\"]).count()[\"min dist\"]\n",
    "poi"
   ]
  },
  {
   "cell_type": "code",
   "execution_count": 15,
   "metadata": {},
   "outputs": [
    {
     "data": {
      "text/html": [
       "<div>\n",
       "<style scoped>\n",
       "    .dataframe tbody tr th:only-of-type {\n",
       "        vertical-align: middle;\n",
       "    }\n",
       "\n",
       "    .dataframe tbody tr th {\n",
       "        vertical-align: top;\n",
       "    }\n",
       "\n",
       "    .dataframe thead th {\n",
       "        text-align: right;\n",
       "    }\n",
       "</style>\n",
       "<table border=\"1\" class=\"dataframe\">\n",
       "  <thead>\n",
       "    <tr style=\"text-align: right;\">\n",
       "      <th></th>\n",
       "      <th>Latitude</th>\n",
       "      <th>Longitude</th>\n",
       "      <th>min dist</th>\n",
       "      <th>std</th>\n",
       "      <th>max radius</th>\n",
       "      <th>count</th>\n",
       "      <th>request per area</th>\n",
       "    </tr>\n",
       "    <tr>\n",
       "      <th>closest poi</th>\n",
       "      <th></th>\n",
       "      <th></th>\n",
       "      <th></th>\n",
       "      <th></th>\n",
       "      <th></th>\n",
       "      <th></th>\n",
       "      <th></th>\n",
       "    </tr>\n",
       "  </thead>\n",
       "  <tbody>\n",
       "    <tr>\n",
       "      <th>1</th>\n",
       "      <td>51.881877</td>\n",
       "      <td>-113.138242</td>\n",
       "      <td>187.847773</td>\n",
       "      <td>256.620696</td>\n",
       "      <td>7171.760339</td>\n",
       "      <td>9726</td>\n",
       "      <td>0.000060</td>\n",
       "    </tr>\n",
       "    <tr>\n",
       "      <th>2</th>\n",
       "      <td>44.231803</td>\n",
       "      <td>-78.731890</td>\n",
       "      <td>281.269522</td>\n",
       "      <td>139.263652</td>\n",
       "      <td>932.338420</td>\n",
       "      <td>9796</td>\n",
       "      <td>0.003587</td>\n",
       "    </tr>\n",
       "    <tr>\n",
       "      <th>3</th>\n",
       "      <td>45.572842</td>\n",
       "      <td>-59.579321</td>\n",
       "      <td>309.666122</td>\n",
       "      <td>917.325936</td>\n",
       "      <td>5819.349805</td>\n",
       "      <td>477</td>\n",
       "      <td>0.000004</td>\n",
       "    </tr>\n",
       "  </tbody>\n",
       "</table>\n",
       "</div>"
      ],
      "text/plain": [
       "              Latitude   Longitude    min dist         std   max radius  \\\n",
       "closest poi                                                               \n",
       "1            51.881877 -113.138242  187.847773  256.620696  7171.760339   \n",
       "2            44.231803  -78.731890  281.269522  139.263652   932.338420   \n",
       "3            45.572842  -59.579321  309.666122  917.325936  5819.349805   \n",
       "\n",
       "             count  request per area  \n",
       "closest poi                           \n",
       "1             9726          0.000060  \n",
       "2             9796          0.003587  \n",
       "3              477          0.000004  "
      ]
     },
     "execution_count": 15,
     "metadata": {},
     "output_type": "execute_result"
    }
   ],
   "source": [
    "poi[\"request per area\"]=poi[\"count\"]/(np.power(poi[\"max radius\"],2)*np.pi)\n",
    "poi"
   ]
  },
  {
   "cell_type": "code",
   "execution_count": 16,
   "metadata": {},
   "outputs": [],
   "source": [
    "poi_1=clean_geo_points[clean_geo_points['closest poi'] == 1]\n",
    "poi_2=clean_geo_points[clean_geo_points['closest poi'] == 2]\n",
    "poi_3=clean_geo_points[clean_geo_points['closest poi'] == 3]"
   ]
  },
  {
   "cell_type": "code",
   "execution_count": 17,
   "metadata": {},
   "outputs": [
    {
     "name": "stdout",
     "output_type": "stream",
     "text": [
      "count    9726.000000\n",
      "mean      187.847773\n",
      "std       256.620696\n",
      "min         0.217228\n",
      "25%         9.486285\n",
      "50%       172.596882\n",
      "75%       194.901566\n",
      "max      7171.760339\n",
      "Name: min dist, dtype: float64\n",
      "------------\n",
      "count    9796.000000\n",
      "mean      281.269522\n",
      "std       139.263652\n",
      "min         0.503018\n",
      "25%       285.351068\n",
      "50%       314.486456\n",
      "75%       331.410239\n",
      "max       932.338420\n",
      "Name: min dist, dtype: float64\n",
      "------------\n",
      "count     477.000000\n",
      "mean      309.666122\n",
      "std       917.325936\n",
      "min        10.081376\n",
      "25%        46.772571\n",
      "50%        97.727434\n",
      "75%       171.555420\n",
      "max      5819.349805\n",
      "Name: min dist, dtype: float64\n"
     ]
    }
   ],
   "source": [
    "print(poi_1['min dist'].describe())\n",
    "print(\"------------\")\n",
    "print(poi_2['min dist'].describe())\n",
    "print(\"------------\")\n",
    "print(poi_3['min dist'].describe())"
   ]
  },
  {
   "cell_type": "code",
   "execution_count": 18,
   "metadata": {},
   "outputs": [],
   "source": [
    "import seaborn as sns"
   ]
  },
  {
   "cell_type": "code",
   "execution_count": 61,
   "metadata": {},
   "outputs": [
    {
     "data": {
      "image/png": "[encoded data removed]",
      "text/plain": [
       "<Figure size 432x288 with 1 Axes>"
      ]
     },
     "metadata": {
      "needs_background": "light"
     },
     "output_type": "display_data"
    }
   ],
   "source": [
    "ax = sns.boxplot(x=poi_1[\"min dist\"])"
   ]
  },
  {
   "cell_type": "code",
   "execution_count": 62,
   "metadata": {},
   "outputs": [
    {
     "data": {
      "image/png": "[encoded data removed]",
      "text/plain": [
       "<Figure size 432x288 with 1 Axes>"
      ]
     },
     "metadata": {
      "needs_background": "light"
     },
     "output_type": "display_data"
    }
   ],
   "source": [
    "ax = sns.distplot(poi_1[\"min dist\"])"
   ]
  },
  {
   "cell_type": "code",
   "execution_count": 20,
   "metadata": {},
   "outputs": [],
   "source": [
    "data=[]\n",
    "for index,row in poi_1.iterrows():\n",
    "    data.append(row[\"min dist\"])\n",
    "data_array=np.asarray(data)\n",
    "data_to_normalize=data_array.reshape(-1,1)"
   ]
  },
  {
   "cell_type": "code",
   "execution_count": 21,
   "metadata": {},
   "outputs": [
    {
     "name": "stdout",
     "output_type": "stream",
     "text": [
      "PowerTransformer(copy=True, method='yeo-johnson', standardize=True)\n"
     ]
    }
   ],
   "source": [
    "pt = PowerTransformer()\n",
    "print(pt.fit(data_to_normalize))\n",
    "transformed_data_power_1=pt.transform(data_to_normalize)"
   ]
  },
  {
   "cell_type": "markdown",
   "metadata": {},
   "source": [
    "# ax = sns.boxplot(x=transformed_data_power_1)"
   ]
  },
  {
   "cell_type": "code",
   "execution_count": 23,
   "metadata": {},
   "outputs": [
    {
     "name": "stdout",
     "output_type": "stream",
     "text": [
      "[5.93765066]\n",
      "[-1.8228197]\n"
     ]
    }
   ],
   "source": [
    "print(max(transformed_data_power_1))\n",
    "print(min(transformed_data_power_1))"
   ]
  },
  {
   "cell_type": "code",
   "execution_count": 60,
   "metadata": {},
   "outputs": [
    {
     "data": {
      "image/png": "[encoded data removed]",
      "text/plain": [
       "<Figure size 432x288 with 1 Axes>"
      ]
     },
     "metadata": {
      "needs_background": "light"
     },
     "output_type": "display_data"
    }
   ],
   "source": [
    "ax = sns.distplot(transformed_data_power_1)"
   ]
  },
  {
   "cell_type": "code",
   "execution_count": 26,
   "metadata": {},
   "outputs": [
    {
     "name": "stdout",
     "output_type": "stream",
     "text": [
      "RobustScaler(copy=True, quantile_range=(25.0, 75.0), with_centering=True,\n",
      "             with_scaling=True)\n"
     ]
    },
    {
     "data": {
      "image/png": "[encoded data removed]",
      "text/plain": [
       "<Figure size 432x288 with 1 Axes>"
      ]
     },
     "metadata": {
      "needs_background": "light"
     },
     "output_type": "display_data"
    }
   ],
   "source": [
    "rs = RobustScaler()\n",
    "print(rs.fit(data_to_normalize))\n",
    "transformed_data_robust=rs.transform(data_to_normalize)\n",
    "ax1 = sns.boxplot(x=transformed_data_robust)"
   ]
  },
  {
   "cell_type": "code",
   "execution_count": 28,
   "metadata": {},
   "outputs": [
    {
     "name": "stdout",
     "output_type": "stream",
     "text": [
      "[[0.80765748]\n",
      " [0.21614037]\n",
      " [0.80765748]\n",
      " ...\n",
      " [0.33168956]\n",
      " [0.88948111]\n",
      " [0.6123209 ]]\n"
     ]
    },
    {
     "data": {
      "image/png": "[encoded data removed]",
      "text/plain": [
       "<Figure size 432x288 with 1 Axes>"
      ]
     },
     "metadata": {
      "needs_background": "light"
     },
     "output_type": "display_data"
    }
   ],
   "source": [
    "from sklearn.preprocessing import QuantileTransformer\n",
    "qt = QuantileTransformer(n_quantiles=10, random_state=0)\n",
    "transformed_data_qt=qt.fit_transform(data_to_normalize)\n",
    "print(transformed_data_qt)\n",
    "ax = sns.boxplot(x=transformed_data_qt)"
   ]
  },
  {
   "cell_type": "code",
   "execution_count": 59,
   "metadata": {},
   "outputs": [
    {
     "data": {
      "image/png": "[encoded data removed]",
      "text/plain": [
       "<Figure size 432x288 with 1 Axes>"
      ]
     },
     "metadata": {
      "needs_background": "light"
     },
     "output_type": "display_data"
    }
   ],
   "source": [
    "ax = sns.distplot(transformed_data_qt)"
   ]
  },
  {
   "cell_type": "code",
   "execution_count": 35,
   "metadata": {},
   "outputs": [],
   "source": [
    "a=-10\n",
    "b=10\n",
    "transformed_data_qt_normal=(b-a)*(transformed_data_qt-\n",
    "                                  min(transformed_data_qt))/(max(transformed_data_qt)-\n",
    "                                                             min(transformed_data_qt))+a"
   ]
  },
  {
   "cell_type": "code",
   "execution_count": 36,
   "metadata": {},
   "outputs": [
    {
     "data": {
      "image/png": "[encoded data removed]",
      "text/plain": [
       "<Figure size 432x288 with 1 Axes>"
      ]
     },
     "metadata": {
      "needs_background": "light"
     },
     "output_type": "display_data"
    }
   ],
   "source": [
    "ax = sns.boxplot(x=transformed_data_qt_normal)"
   ]
  },
  {
   "cell_type": "code",
   "execution_count": null,
   "metadata": {},
   "outputs": [],
   "source": []
  },
  {
   "cell_type": "code",
   "execution_count": 29,
   "metadata": {},
   "outputs": [
    {
     "data": {
      "image/png": "[encoded data removed]",
      "text/plain": [
       "<Figure size 432x288 with 1 Axes>"
      ]
     },
     "metadata": {
      "needs_background": "light"
     },
     "output_type": "display_data"
    }
   ],
   "source": [
    "ax = sns.boxplot(x=poi_2[\"min dist\"])"
   ]
  },
  {
   "cell_type": "code",
   "execution_count": 30,
   "metadata": {},
   "outputs": [],
   "source": [
    "data_2=[]\n",
    "for index,row in poi_2.iterrows():\n",
    "    data_2.append(row[\"min dist\"])\n",
    "data_array_2=np.asarray(data_2)\n",
    "data_to_normalize_2=data_array_2.reshape(-1,1)"
   ]
  },
  {
   "cell_type": "code",
   "execution_count": 31,
   "metadata": {},
   "outputs": [
    {
     "name": "stdout",
     "output_type": "stream",
     "text": [
      "PowerTransformer(copy=True, method='yeo-johnson', standardize=True)\n"
     ]
    },
    {
     "data": {
      "image/png": "[encoded data removed]",
      "text/plain": [
       "<Figure size 432x288 with 1 Axes>"
      ]
     },
     "metadata": {
      "needs_background": "light"
     },
     "output_type": "display_data"
    }
   ],
   "source": [
    "pt = PowerTransformer()\n",
    "print(pt.fit(data_to_normalize_2))\n",
    "transformed_data_power_2=pt.transform(data_to_normalize_2)\n",
    "ax = sns.boxplot(x=transformed_data_power_2)"
   ]
  },
  {
   "cell_type": "code",
   "execution_count": 32,
   "metadata": {},
   "outputs": [
    {
     "name": "stdout",
     "output_type": "stream",
     "text": [
      "RobustScaler(copy=True, quantile_range=(25.0, 75.0), with_centering=True,\n",
      "             with_scaling=True)\n"
     ]
    },
    {
     "data": {
      "image/png": "[encoded data removed]",
      "text/plain": [
       "<Figure size 432x288 with 1 Axes>"
      ]
     },
     "metadata": {
      "needs_background": "light"
     },
     "output_type": "display_data"
    }
   ],
   "source": [
    "rs = RobustScaler()\n",
    "print(rs.fit(data_to_normalize_2))\n",
    "transformed_data_robust_2=rs.transform(data_to_normalize_2)\n",
    "ax1 = sns.boxplot(x=transformed_data_robust_2)"
   ]
  },
  {
   "cell_type": "code",
   "execution_count": null,
   "metadata": {},
   "outputs": [],
   "source": []
  },
  {
   "cell_type": "code",
   "execution_count": 33,
   "metadata": {},
   "outputs": [
    {
     "data": {
      "image/png": "[encoded data removed]",
      "text/plain": [
       "<Figure size 432x288 with 1 Axes>"
      ]
     },
     "metadata": {
      "needs_background": "light"
     },
     "output_type": "display_data"
    }
   ],
   "source": [
    "qt = QuantileTransformer(n_quantiles=10, random_state=0)\n",
    "transformed_data_qt_2=qt.fit_transform(data_to_normalize_2)\n",
    "ax = sns.boxplot(x=transformed_data_qt_2)"
   ]
  },
  {
   "cell_type": "code",
   "execution_count": 37,
   "metadata": {},
   "outputs": [],
   "source": [
    "a=-10\n",
    "b=10\n",
    "transformed_data_qt_normal_2=(b-a)*(transformed_data_qt_2-\n",
    "                                  min(transformed_data_qt_2))/(max(transformed_data_qt_2)-\n",
    "                                                             min(transformed_data_qt_2))+a"
   ]
  },
  {
   "cell_type": "code",
   "execution_count": 38,
   "metadata": {},
   "outputs": [
    {
     "data": {
      "image/png": "[encoded data removed]",
      "text/plain": [
       "<Figure size 432x288 with 1 Axes>"
      ]
     },
     "metadata": {
      "needs_background": "light"
     },
     "output_type": "display_data"
    }
   ],
   "source": [
    "ax = sns.boxplot(x=transformed_data_qt_normal_2)"
   ]
  },
  {
   "cell_type": "code",
   "execution_count": 34,
   "metadata": {},
   "outputs": [
    {
     "data": {
      "image/png": "[encoded data removed]",
      "text/plain": [
       "<Figure size 432x288 with 1 Axes>"
      ]
     },
     "metadata": {
      "needs_background": "light"
     },
     "output_type": "display_data"
    }
   ],
   "source": [
    "ax = sns.boxplot(x=poi_3[\"min dist\"])"
   ]
  },
  {
   "cell_type": "code",
   "execution_count": 55,
   "metadata": {},
   "outputs": [
    {
     "data": {
      "image/png": "[encoded data removed]",
      "text/plain": [
       "<Figure size 432x288 with 1 Axes>"
      ]
     },
     "metadata": {
      "needs_background": "light"
     },
     "output_type": "display_data"
    }
   ],
   "source": [
    "ax = sns.distplot(poi_3[\"min dist\"])"
   ]
  },
  {
   "cell_type": "code",
   "execution_count": 39,
   "metadata": {},
   "outputs": [],
   "source": [
    "data_3=[]\n",
    "for index,row in poi_3.iterrows():\n",
    "    data_3.append(row[\"min dist\"])\n",
    "data_array_3=np.asarray(data_3)\n",
    "data_to_normalize_3=data_array_3.reshape(-1,1)"
   ]
  },
  {
   "cell_type": "code",
   "execution_count": 57,
   "metadata": {},
   "outputs": [
    {
     "name": "stdout",
     "output_type": "stream",
     "text": [
      "PowerTransformer(copy=True, method='yeo-johnson', standardize=True)\n"
     ]
    },
    {
     "data": {
      "image/png": "[encoded data removed]",
      "text/plain": [
       "<Figure size 432x288 with 1 Axes>"
      ]
     },
     "metadata": {
      "needs_background": "light"
     },
     "output_type": "display_data"
    }
   ],
   "source": [
    "print(pt.fit(data_to_normalize_3))\n",
    "transformed_data_power_3=pt.transform(data_to_normalize_3)\n",
    "ax = sns.boxplot(x=transformed_data_power_3)"
   ]
  },
  {
   "cell_type": "code",
   "execution_count": 58,
   "metadata": {},
   "outputs": [
    {
     "data": {
      "image/png": "[encoded data removed]",
      "text/plain": [
       "<Figure size 432x288 with 1 Axes>"
      ]
     },
     "metadata": {
      "needs_background": "light"
     },
     "output_type": "display_data"
    }
   ],
   "source": [
    "ax=sns.distplot(transformed_data_power_3)"
   ]
  },
  {
   "cell_type": "code",
   "execution_count": 52,
   "metadata": {},
   "outputs": [
    {
     "name": "stdout",
     "output_type": "stream",
     "text": [
      "RobustScaler(copy=True, quantile_range=(25.0, 75.0), with_centering=True,\n",
      "             with_scaling=True)\n"
     ]
    },
    {
     "data": {
      "image/png": "[encoded data removed]",
      "text/plain": [
       "<Figure size 432x288 with 1 Axes>"
      ]
     },
     "metadata": {
      "needs_background": "light"
     },
     "output_type": "display_data"
    }
   ],
   "source": [
    "print(rs.fit(data_to_normalize_3))\n",
    "transformed_data_robust_3=rs.transform(data_to_normalize_3)\n",
    "\n",
    "ax3=sns.distplot(transformed_data_robust_3)"
   ]
  },
  {
   "cell_type": "code",
   "execution_count": 53,
   "metadata": {},
   "outputs": [
    {
     "data": {
      "image/png": "[encoded data removed]",
      "text/plain": [
       "<Figure size 432x288 with 1 Axes>"
      ]
     },
     "metadata": {
      "needs_background": "light"
     },
     "output_type": "display_data"
    }
   ],
   "source": [
    "ax1 = sns.boxplot(x=transformed_data_robust_3)"
   ]
  },
  {
   "cell_type": "code",
   "execution_count": 51,
   "metadata": {},
   "outputs": [
    {
     "name": "stdout",
     "output_type": "stream",
     "text": [
      "0.4956264917958002\n"
     ]
    },
    {
     "data": {
      "image/png": "[encoded data removed]",
      "text/plain": [
       "<Figure size 432x288 with 1 Axes>"
      ]
     },
     "metadata": {
      "needs_background": "light"
     },
     "output_type": "display_data"
    }
   ],
   "source": [
    "transformed_data_qt_3=qt.fit_transform(data_to_normalize_3)\n",
    "print(transformed_data_qt_3.mean())\n",
    "ax = sns.boxplot(x=transformed_data_qt_3)"
   ]
  },
  {
   "cell_type": "code",
   "execution_count": 54,
   "metadata": {},
   "outputs": [
    {
     "data": {
      "image/png": "[encoded data removed]",
      "text/plain": [
       "<Figure size 432x288 with 1 Axes>"
      ]
     },
     "metadata": {
      "needs_background": "light"
     },
     "output_type": "display_data"
    }
   ],
   "source": [
    "ax3=sns.distplot(transformed_data_qt_3)"
   ]
  },
  {
   "cell_type": "code",
   "execution_count": 46,
   "metadata": {},
   "outputs": [
    {
     "name": "stdout",
     "output_type": "stream",
     "text": [
      "-0.08747016408399687\n"
     ]
    },
    {
     "data": {
      "image/png": "[encoded data removed]",
      "text/plain": [
       "<Figure size 432x288 with 1 Axes>"
      ]
     },
     "metadata": {
      "needs_background": "light"
     },
     "output_type": "display_data"
    }
   ],
   "source": [
    "a=-10\n",
    "b=10\n",
    "transformed_data_qt_normal_3=(b-a)*(transformed_data_qt_3-\n",
    "                                  min(transformed_data_qt_3))/(max(transformed_data_qt_3)-\n",
    "                                                             min(transformed_data_qt_3))+a\n",
    "print(transformed_data_qt_normal_3.mean())\n",
    "ax = sns.boxplot(x=transformed_data_qt_normal_3)"
   ]
  },
  {
   "cell_type": "code",
   "execution_count": 56,
   "metadata": {},
   "outputs": [
    {
     "data": {
      "image/png": "[encoded data removed]",
      "text/plain": [
       "<Figure size 432x288 with 1 Axes>"
      ]
     },
     "metadata": {
      "needs_background": "light"
     },
     "output_type": "display_data"
    }
   ],
   "source": [
    "ax3=sns.distplot(transformed_data_qt_normal_3)"
   ]
  },
  {
   "cell_type": "code",
   "execution_count": null,
   "metadata": {},
   "outputs": [],
   "source": []
  }
 ],
 "metadata": {
  "kernelspec": {
   "display_name": "Python 3",
   "language": "python",
   "name": "python3"
  },
  "language_info": {
   "codemirror_mode": {
    "name": "ipython",
    "version": 3
   },
   "file_extension": ".py",
   "mimetype": "text/x-python",
   "name": "python",
   "nbconvert_exporter": "python",
   "pygments_lexer": "ipython3",
   "version": "3.7.3"
  }
 },
 "nbformat": 4,
 "nbformat_minor": 2
}
